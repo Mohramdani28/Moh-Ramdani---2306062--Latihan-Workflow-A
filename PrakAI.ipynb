{
  "nbformat": 4,
  "nbformat_minor": 0,
  "metadata": {
    "colab": {
      "provenance": []
    },
    "kernelspec": {
      "name": "python3",
      "display_name": "Python 3"
    },
    "language_info": {
      "name": "python"
    }
  },
  "cells": [
    {
      "cell_type": "code",
      "execution_count": null,
      "metadata": {
        "colab": {
          "base_uri": "https://localhost:8080/"
        },
        "id": "ubjtpntHkpbP",
        "outputId": "42630387-74ad-4eef-8196-6fd0754ec115"
      },
      "outputs": [
        {
          "output_type": "stream",
          "name": "stdout",
          "text": [
            "File csv berhasil dibuat dan disimpan sebagai 'data_penjualan_latihan'!\n"
          ]
        }
      ],
      "source": [
        "import pandas as pd\n",
        "\n",
        "data = {\n",
        "    \"Tanggal\" : [\"2025-03-01\", \"2025-03-01\", \"2025-03-02\", \"2025-03-02\", \"2025-03-03\", \"2025-03-03\", \"2025-03-04\", \"2025-03-04\", \"2025-03-05\", \"2025-03-05\"],\n",
        "    \"Produk\" : [\"Minyak sawit\", \"Beras\", \"Gula\", \"Tepung terigu\", \"Mie Instan\", \"Susu\", \"Telur\", \"Garam\", \"kecap\", \"Baking Soda\"],\n",
        "    \"Jumlah Terjual\" : [13, 4, 14, 2, 11, 3, 22, 8, 7, 10],\n",
        "    \"Stok\" : [19, 15, 21, 18, 25, 10, 30, 15, 17, 13],\n",
        "    \"Harga Satuan\" : [14000, 15000, 13000, 12000, 3000, 15000, 25000, 8000, 18000, 7000],\n",
        "}\n",
        "\n",
        "df = pd.DataFrame(data)\n",
        "\n",
        "df.to_csv(\"data_penjualan_latihan.csv\", index=False)\n",
        "\n",
        "print(\"File csv berhasil dibuat dan disimpan sebagai 'data_penjualan_latihan'!\")"
      ]
    },
    {
      "cell_type": "code",
      "source": [
        "df = pd.read_csv(\"data_penjualan_latihan.csv\")\n",
        "\n",
        "print(df.head())"
      ],
      "metadata": {
        "colab": {
          "base_uri": "https://localhost:8080/"
        },
        "id": "hSyCS_hUleye",
        "outputId": "ad344106-0d57-4f17-953d-a56f3af963a5"
      },
      "execution_count": null,
      "outputs": [
        {
          "output_type": "stream",
          "name": "stdout",
          "text": [
            "      Tanggal         Produk  Jumlah Terjual  Stok  Harga Satuan\n",
            "0  2025-03-01   Minyak sawit              13    19         14000\n",
            "1  2025-03-01          Beras               4    15         15000\n",
            "2  2025-03-02           Gula              14    21         13000\n",
            "3  2025-03-02  Tepung terigu               2    18         12000\n",
            "4  2025-03-03     Mie Instan              11    25          3000\n"
          ]
        }
      ]
    },
    {
      "cell_type": "code",
      "source": [
        "print(df.isnull().sum())\n",
        "\n",
        "df[\"Tanggal\"] = pd.to_datetime(df[\"Tanggal\"])\n",
        "\n",
        "df[\"Total Penjualan\"] = df[\"Jumlah Terjual\"] * df[\"Harga Satuan\"]\n",
        "\n",
        "df[\"Keuntungan\"] = df[\"Total Penjualan\"] - (df[\"Jumlah Terjual\"] * 10000)\n",
        "\n",
        "print(df.head())"
      ],
      "metadata": {
        "colab": {
          "base_uri": "https://localhost:8080/"
        },
        "id": "WpIxFfT4mZwS",
        "outputId": "55273c0c-3f18-4992-cd6b-0439a9ae29eb"
      },
      "execution_count": null,
      "outputs": [
        {
          "output_type": "stream",
          "name": "stdout",
          "text": [
            "Tanggal           0\n",
            "Produk            0\n",
            "Jumlah Terjual    0\n",
            "Stok              0\n",
            "Harga Satuan      0\n",
            "dtype: int64\n",
            "     Tanggal         Produk  Jumlah Terjual  Stok  Harga Satuan  \\\n",
            "0 2025-03-01   Minyak sawit              13    19         14000   \n",
            "1 2025-03-01          Beras               4    15         15000   \n",
            "2 2025-03-02           Gula              14    21         13000   \n",
            "3 2025-03-02  Tepung terigu               2    18         12000   \n",
            "4 2025-03-03     Mie Instan              11    25          3000   \n",
            "\n",
            "   Total Penjualan  Keuntungan  \n",
            "0           182000       52000  \n",
            "1            60000       20000  \n",
            "2           182000       42000  \n",
            "3            24000        4000  \n",
            "4            33000      -77000  \n"
          ]
        }
      ]
    },
    {
      "cell_type": "code",
      "source": [
        "from sklearn.model_selection import train_test_split\n",
        "from sklearn.tree import DecisionTreeClassifier\n",
        "from sklearn.metrics import accuracy_score\n",
        "\n",
        "X = df[[\"Jumlah Terjual\", \"Stok\"]]\n",
        "y = (df[\"Stok\"] < 5).astype(int)\n",
        "\n",
        "X_train, X_test, y_train, y_test = train_test_split(X, y, test_size=0.2, random_state=42)\n",
        "\n",
        "model = DecisionTreeClassifier()\n",
        "model.fit(X_train, y_train)\n",
        "\n",
        "y_pred = model.predict(X_test)\n",
        "print(\"Akurasi Model :\", accuracy_score(y_test, y_pred))\n",
        "\n",
        "accuracy = accuracy_score(y_test, y_pred)\n",
        "print(\"Akurasi model:\", accuracy)\n",
        "\n",
        "y_pred = model.predict(X_test)\n",
        "\n",
        "accuracy = accuracy_score(y_test, y_pred)"
      ],
      "metadata": {
        "colab": {
          "base_uri": "https://localhost:8080/"
        },
        "id": "LXlv4dbvmrkr",
        "outputId": "6458fa21-cfcb-4106-cf0b-1f11c21a6eb4"
      },
      "execution_count": null,
      "outputs": [
        {
          "output_type": "stream",
          "name": "stdout",
          "text": [
            "Akurasi Model : 1.0\n",
            "Akurasi model: 1.0\n"
          ]
        }
      ]
    },
    {
      "cell_type": "code",
      "source": [
        "produk_baru = [[8, 3]]\n",
        "prediksi = model.predict(produk_baru)\n",
        "\n",
        "if prediksi[0] == 1:\n",
        "  print(\"Produk perlu di restok!\")\n",
        "else :\n",
        "  print(\"Stok masih cukup.\")"
      ],
      "metadata": {
        "colab": {
          "base_uri": "https://localhost:8080/"
        },
        "id": "byPJE3vfm4uh",
        "outputId": "908991db-2ef0-4ff8-9887-9a865fab4dcb"
      },
      "execution_count": null,
      "outputs": [
        {
          "output_type": "stream",
          "name": "stdout",
          "text": [
            "Stok masih cukup.\n"
          ]
        },
        {
          "output_type": "stream",
          "name": "stderr",
          "text": [
            "/usr/local/lib/python3.11/dist-packages/sklearn/utils/validation.py:2739: UserWarning: X does not have valid feature names, but DecisionTreeClassifier was fitted with feature names\n",
            "  warnings.warn(\n"
          ]
        }
      ]
    },
    {
      "cell_type": "code",
      "source": [
        "import matplotlib.pyplot as plt\n",
        "\n",
        "plt.scatter(df[\"Jumlah Terjual\"], df[\"Stok\"], c=df[\"Keuntungan\"], cmap=\"coolwarm\")\n",
        "plt.xlabel(\"Jumlah Terjual\")\n",
        "plt.ylabel(\"Stok\")\n",
        "plt.title(\"Analis penjualan dan stok\")\n",
        "plt.colorbar(label=\"Keuntungan\")\n",
        "plt.show()"
      ],
      "metadata": {
        "colab": {
          "base_uri": "https://localhost:8080/",
          "height": 472
        },
        "id": "BIbge7JAm--s",
        "outputId": "89ce2dfc-300d-49f6-8598-fd773acdc1c5"
      },
      "execution_count": null,
      "outputs": [
        {
          "output_type": "display_data",
          "data": {
            "text/plain": [
              "<Figure size 640x480 with 2 Axes>"
            ],
            "image/png": "[encoded data removed]"
          },
          "metadata": {}
        }
      ]
    }
  ]
}